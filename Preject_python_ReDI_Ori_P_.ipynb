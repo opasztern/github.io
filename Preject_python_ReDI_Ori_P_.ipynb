{
  "nbformat": 4,
  "nbformat_minor": 0,
  "metadata": {
    "colab": {
      "provenance": [],
      "authorship_tag": "ABX9TyMw/KuMLleAtNVJPiWHVsvw",
      "include_colab_link": true
    },
    "kernelspec": {
      "name": "python3",
      "display_name": "Python 3"
    },
    "language_info": {
      "name": "python"
    }
  },
  "cells": [
    {
      "cell_type": "markdown",
      "metadata": {
        "id": "view-in-github",
        "colab_type": "text"
      },
      "source": [
        "<a href=\"https://colab.research.google.com/github/opasztern/github.io/blob/main/Preject_python_ReDI_Ori_P_.ipynb\" target=\"_parent\"><img src=\"https://colab.research.google.com/assets/colab-badge.svg\" alt=\"Open In Colab\"/></a>"
      ]
    },
    {
      "cell_type": "code",
      "execution_count": null,
      "metadata": {
        "id": "EXpHLd40lGY-"
      },
      "outputs": [],
      "source": [
        "import random \n",
        "import time\n",
        "\n",
        "#creates a list of random unique integers, sorts list\n",
        "def createlist(length):\n",
        "  List=set()\n",
        "  while len(List)<length:\n",
        "    List.add(random.randint(0,3*length))\n",
        "  List=sorted(list(List))\n",
        "  print(List)\n",
        "  return List\n",
        "# NEED to create input from user\n",
        "list_length = int(input(\"Enter the length of the list: \"))\n",
        "List=createlist(list_length)\n",
        "\n",
        "#A function to measure the run time of a passed function of which parameters are given later  \n",
        "def speed(function,*args, **kwargs):\n",
        "  start1=time.time()\n",
        "  function(*args, **kwargs)\n",
        "  end1=time.time()\n",
        "  print(f\"The processing time of {function.__name__} is: {round(end1-start1,5)}\")\n",
        "  return round(end1-start1,5)\n",
        "\n",
        "#Function for \"naive search\". Returns the index of an int we define\n",
        "def findint (List, num):\n",
        "  for i in range(len(List)):\n",
        "    if List[i]==num:\n",
        "      print(f\"The index of {num} is: {i}\")\n",
        "      return True\n",
        "  else:\n",
        "    print (f\"{num} is not in the list\")\n",
        "    return False\n",
        "\n",
        "#function for same goal but using binary search\n",
        "def bin_search(List, num, start_index=0):\n",
        "  if num not in List:\n",
        "    print (f\"{num} is not in the list\")\n",
        "    return None\n",
        "  midpoint = len(List) // 2\n",
        "  if List[midpoint] == num:\n",
        "    print(f\"The index of {num} is: {start_index +midpoint}\")\n",
        "    return True\n",
        "\n",
        "  elif List[midpoint] > num:\n",
        "    return bin_search(List[:midpoint], num, start_index)\n",
        "\n",
        "  else:\n",
        "    return bin_search(List[midpoint+1:], num, start_index + midpoint + 1)\n",
        "\n",
        "def delta(func1,func2,*args):\n",
        "  time1=speed(func1,*args)\n",
        "  time2=speed(func2,*args)\n",
        "  if time1>time2:\n",
        "    return f\"The processing time of the binary search is: {round((time1-time2)/time1*100,2)}% faster than the processing time of the naive search\"\n",
        "  elif time1<time2:\n",
        "    return f\"The processing time of the naive search is: {round((time2-time1)/time2*100,2)}% faster than the processing time of the binary search\"\n",
        "  else:\n",
        "    return f\"The processing time of the binary search is equal to The processing time of the naive search\"\n",
        "    \n",
        "\n",
        "delta (findint,bin_search,List,int(input(\"Enter the integer you want to find \")))\n",
        "\n"
      ]
    },
    {
      "cell_type": "code",
      "source": [],
      "metadata": {
        "id": "uzU18Fa8-nqo"
      },
      "execution_count": null,
      "outputs": []
    },
    {
      "cell_type": "code",
      "source": [],
      "metadata": {
        "id": "DoBPG955-Mfh"
      },
      "execution_count": null,
      "outputs": []
    },
    {
      "cell_type": "code",
      "source": [],
      "metadata": {
        "id": "fg1NC66EbQKy"
      },
      "execution_count": null,
      "outputs": []
    }
  ]
}